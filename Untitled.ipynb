{
 "cells": [
  {
   "cell_type": "code",
   "execution_count": 1,
   "id": "54a853f2-aee3-4ac7-95ff-36fa41e65be0",
   "metadata": {},
   "outputs": [
    {
     "ename": "ModuleNotFoundError",
     "evalue": "No module named 'pandas'",
     "output_type": "error",
     "traceback": [
      "\u001b[0;31m---------------------------------------------------------------------------\u001b[0m",
      "\u001b[0;31mModuleNotFoundError\u001b[0m                       Traceback (most recent call last)",
      "Cell \u001b[0;32mIn[1], line 1\u001b[0m\n\u001b[0;32m----> 1\u001b[0m \u001b[38;5;28;01mimport\u001b[39;00m \u001b[38;5;21;01mpandas\u001b[39;00m \u001b[38;5;28;01mas\u001b[39;00m \u001b[38;5;21;01mpd\u001b[39;00m\n",
      "\u001b[0;31mModuleNotFoundError\u001b[0m: No module named 'pandas'"
     ]
    }
   ],
   "source": [
    "import pandas as pd"
   ]
  },
  {
   "cell_type": "code",
   "execution_count": 2,
   "id": "23ac52d3-2bcd-48ce-a43f-70ab91c979e6",
   "metadata": {},
   "outputs": [
    {
     "name": "stdout",
     "output_type": "stream",
     "text": [
      "zsh:1: command not found: pip\n"
     ]
    }
   ],
   "source": [
    "!pip install pandas"
   ]
  },
  {
   "cell_type": "code",
   "execution_count": null,
   "id": "775db1b6-a430-4d93-bb63-15d3008287b7",
   "metadata": {},
   "outputs": [],
   "source": [
    "import pandas as pd\n",
    "\n",
    "# 读取数据\n",
    "file_path = '/da tadf_ready.csv'  # 或者是您的文件路径\n",
    "df = pd.read_csv(file_path)\n",
    "\n",
    "# 预处理数据\n",
    "# 对数据进行分组，并计算每个国家的总财富、亿万富翁人数、平均寿命、人口和大洲\n",
    "country_data = df.groupby('country_of_residence').agg(\n",
    "    total_wealth=('wealth', 'sum'),  # 计算总财富\n",
    "    billionaires=('full_name', 'count'),  # 计算亿万富翁人数\n",
    "    average_life_expectancy=('life_expectancy', 'mean'),  # 计算平均寿命\n",
    "    population=('country_pop', 'mean'),  # 获取人口（假设每个条目中的人口相同）\n",
    "    continent=('continent', 'first')  # 获取大洲信息\n",
    ").reset_index()\n",
    "\n",
    "# 查看预处理后的数据\n",
    "print(country_data.head())\n"
   ]
  },
  {
   "cell_type": "code",
   "execution_count": null,
   "id": "d4d7ac1d-b301-4a64-bd5a-596fce3cd0e9",
   "metadata": {},
   "outputs": [],
   "source": []
  }
 ],
 "metadata": {
  "kernelspec": {
   "display_name": "Python 3 (ipykernel)",
   "language": "python",
   "name": "python3"
  },
  "language_info": {
   "codemirror_mode": {
    "name": "ipython",
    "version": 3
   },
   "file_extension": ".py",
   "mimetype": "text/x-python",
   "name": "python",
   "nbconvert_exporter": "python",
   "pygments_lexer": "ipython3",
   "version": "3.12.2"
  }
 },
 "nbformat": 4,
 "nbformat_minor": 5
}
